{
 "cells": [
  {
   "cell_type": "markdown",
   "id": "aafa016e",
   "metadata": {
    "tags": []
   },
   "source": [
    "# Finance Supply Chain Simulation Data Generator"
   ]
  },
  {
   "cell_type": "markdown",
   "id": "6be4dfb4",
   "metadata": {},
   "source": [
    "## Load Data Sets From Database"
   ]
  },
  {
   "cell_type": "markdown",
   "id": "ba4bbba6",
   "metadata": {},
   "source": [
    "### Connect To The Database"
   ]
  },
  {
   "cell_type": "code",
   "execution_count": 1,
   "id": "bfc2abe2",
   "metadata": {
    "ExecuteTime": {
     "end_time": "2021-12-23T19:04:40.194790Z",
     "start_time": "2021-12-23T19:04:40.187367Z"
    }
   },
   "outputs": [],
   "source": [
    "import sqlite3\n",
    "\n",
    "connection = sqlite3.connect('database.db')\n",
    "cursor = connection.cursor()"
   ]
  },
  {
   "cell_type": "markdown",
   "id": "f0e34f27",
   "metadata": {},
   "source": [
    "#### [SQL] Load Hospital Data Set"
   ]
  },
  {
   "cell_type": "code",
   "execution_count": 2,
   "id": "4af0c23f",
   "metadata": {
    "ExecuteTime": {
     "end_time": "2021-12-23T19:04:41.456198Z",
     "start_time": "2021-12-23T19:04:41.450022Z"
    }
   },
   "outputs": [],
   "source": [
    "sql = \"SELECT * FROM hospital\"\n",
    "hospitals = list(cursor.execute(sql))"
   ]
  },
  {
   "cell_type": "markdown",
   "id": "12e408a8",
   "metadata": {},
   "source": [
    "#### [SQL] Load Pharmacy Data Set"
   ]
  },
  {
   "cell_type": "code",
   "execution_count": 3,
   "id": "5cd83683",
   "metadata": {
    "ExecuteTime": {
     "end_time": "2021-12-23T19:04:42.464832Z",
     "start_time": "2021-12-23T19:04:42.458133Z"
    }
   },
   "outputs": [],
   "source": [
    "sql = \"SELECT * FROM pharmacy\"\n",
    "pharmacies = list(cursor.execute(sql))"
   ]
  },
  {
   "cell_type": "markdown",
   "id": "b852fbf8",
   "metadata": {},
   "source": [
    "#### [SQL] Load Drug Data Set"
   ]
  },
  {
   "cell_type": "code",
   "execution_count": 4,
   "id": "72392374",
   "metadata": {
    "ExecuteTime": {
     "end_time": "2021-12-23T19:04:43.349894Z",
     "start_time": "2021-12-23T19:04:43.344377Z"
    }
   },
   "outputs": [],
   "source": [
    "sql = \"SELECT * FROM drug\"\n",
    "drugs = list(cursor.execute(sql))"
   ]
  },
  {
   "cell_type": "markdown",
   "id": "a939957c",
   "metadata": {},
   "source": [
    "#### [SQL] Load Producer Data Set"
   ]
  },
  {
   "cell_type": "code",
   "execution_count": 5,
   "id": "08a3e85f",
   "metadata": {
    "ExecuteTime": {
     "end_time": "2021-12-23T19:04:44.726306Z",
     "start_time": "2021-12-23T19:04:44.720401Z"
    }
   },
   "outputs": [],
   "source": [
    "sql = \"SELECT * FROM producer\"\n",
    "producers = list(cursor.execute(sql))"
   ]
  },
  {
   "cell_type": "markdown",
   "id": "8dab198e",
   "metadata": {},
   "source": [
    "#### [SQL] Load Distributor Data Set"
   ]
  },
  {
   "cell_type": "code",
   "execution_count": 6,
   "id": "80ed7940",
   "metadata": {
    "ExecuteTime": {
     "end_time": "2021-12-23T19:04:46.176228Z",
     "start_time": "2021-12-23T19:04:46.170154Z"
    }
   },
   "outputs": [],
   "source": [
    "sql = \"SELECT * FROM distributor\"\n",
    "distributors = list(cursor.execute(sql))"
   ]
  },
  {
   "cell_type": "markdown",
   "id": "dfca017e",
   "metadata": {},
   "source": [
    "#### [SQL] Load Supplier Data Set"
   ]
  },
  {
   "cell_type": "code",
   "execution_count": 7,
   "id": "9a7edd9f",
   "metadata": {
    "ExecuteTime": {
     "end_time": "2021-12-23T19:04:47.163628Z",
     "start_time": "2021-12-23T19:04:47.157315Z"
    }
   },
   "outputs": [],
   "source": [
    "sql = \"SELECT * FROM supplier\"\n",
    "suppliers = list(cursor.execute(sql))"
   ]
  },
  {
   "cell_type": "markdown",
   "id": "347020a9",
   "metadata": {},
   "source": [
    "### Remove Variables, Close IO Streams"
   ]
  },
  {
   "cell_type": "code",
   "execution_count": 8,
   "id": "9c3f0206",
   "metadata": {
    "ExecuteTime": {
     "end_time": "2021-12-23T19:04:48.561500Z",
     "start_time": "2021-12-23T19:04:48.554332Z"
    }
   },
   "outputs": [],
   "source": [
    "connection.commit()\n",
    "cursor.close()\n",
    "connection.close()\n",
    "\n",
    "del connection, cursor, sql"
   ]
  },
  {
   "cell_type": "markdown",
   "id": "cccc4d5d",
   "metadata": {},
   "source": [
    "## Generate Random Data Set For Hospitals"
   ]
  },
  {
   "cell_type": "markdown",
   "id": "399a4c3a",
   "metadata": {},
   "source": [
    "##### Defaults:\n",
    "1. **Data generated for a year ago**\n",
    "     * The data has a seasonal pattern\n",
    "         1. In the spring quarter (normal), demand is within the defined range\n",
    "         2. In the summer quarter (due to heat, etc.) demand is __15% lower__\n",
    "         3. In the autumn quarter (due to diseases, etc.) demand is __15% higher__\n",
    "         4. In the winter quarter (due to diseases, etc.) demand is __30% higher__\n",
    "     * The data is generated randomly in a certain interval (according to the seasonal patterns)\n",
    "     * The generated data is stored in a csv file (for the hospital **\"dataset_hospitals.csv\"**)\n",
    "2. **Data Set Format**\n",
    "    - **[Hospital_Name] [Date] [Demand_On_Med_@ID] ...**\n",
    "        * [Kindred] [10/12/2021] [300 @Med1]\n",
    "        * [Kindred] [10/13/2021] [230 @Med1]\n",
    "        * ..."
   ]
  },
  {
   "cell_type": "markdown",
   "id": "d994e9f0",
   "metadata": {},
   "source": [
    "### Insert Records To Db"
   ]
  },
  {
   "cell_type": "markdown",
   "id": "8c1b70a6",
   "metadata": {},
   "source": [
    "#### [SQL] Insert Hospital Demands"
   ]
  },
  {
   "cell_type": "code",
   "execution_count": 9,
   "id": "b1b62f31",
   "metadata": {
    "ExecuteTime": {
     "end_time": "2021-12-23T19:04:50.584744Z",
     "start_time": "2021-12-23T19:04:50.575864Z"
    }
   },
   "outputs": [],
   "source": [
    "def new_hospital_demand(data: list) -> None:\n",
    "    import sqlite3\n",
    "    connection = sqlite3.connect('database.db')\n",
    "    cursor = connection.cursor()\n",
    "    for record in data:\n",
    "        date, hospital_id, drug_id, demand = record[\"date\"], record[\n",
    "            \"h_id\"], record[\"d_id\"], record[\"demand\"]\n",
    "        sql = f\"INSERT INTO hospital_demand (orderDate, hospital_id, drug_id, demand) \\\n",
    "            VALUES ('{date}', {hospital_id}, {drug_id}, {demand});\"\n",
    "\n",
    "        cursor.execute(sql)\n",
    "    connection.commit()\n",
    "    cursor.close()\n",
    "    connection.close()"
   ]
  },
  {
   "cell_type": "markdown",
   "id": "8a8666f0",
   "metadata": {},
   "source": [
    "### Generate Hospital Random Drug Demand\n",
    "#### [Func] Generate Random Demand According To The Trend"
   ]
  },
  {
   "cell_type": "code",
   "execution_count": 10,
   "id": "978c40cd",
   "metadata": {
    "ExecuteTime": {
     "end_time": "2021-12-23T19:04:52.112685Z",
     "start_time": "2021-12-23T19:04:52.104968Z"
    }
   },
   "outputs": [],
   "source": [
    "import random\n",
    "\n",
    "def h_random_demand(season: int, low_demand: str, up_demand: str) -> int:\n",
    "    demand = random.randrange(int(low_demand) + 1, int(up_demand) + 1)\n",
    "    if season == 0:\n",
    "        return demand\n",
    "    elif season == 1:\n",
    "        return round(demand * 0.85)\n",
    "    elif season == 2:\n",
    "        return round(demand * 1.15)\n",
    "    else:\n",
    "        return round(demand * 1.3)"
   ]
  },
  {
   "cell_type": "markdown",
   "id": "13982119",
   "metadata": {},
   "source": [
    "#### Generate Random Data For 3 Years"
   ]
  },
  {
   "cell_type": "code",
   "execution_count": 11,
   "id": "3ffe4460",
   "metadata": {
    "ExecuteTime": {
     "end_time": "2021-12-23T19:04:54.019389Z",
     "start_time": "2021-12-23T19:04:53.840076Z"
    }
   },
   "outputs": [],
   "source": [
    "import datetime\n",
    "\n",
    "generates = 1  # Random Data Generating Times\n",
    "\n",
    "years = [2018, 2019, 2020]\n",
    "months = [[1, 2, 3], [4, 5, 6], [7, 8, 9], [10, 11, 12]]\n",
    "\n",
    "for genrate in range(generates):\n",
    "    data = []\n",
    "    for year in years:\n",
    "        for sdx, season in enumerate(months):\n",
    "            for month in season:\n",
    "\n",
    "                temp01, temp02 = year + 1 if month == 12 else year, 1 if month == 12 else month + 1\n",
    "                d0 = datetime.datetime(year=year, month=month, day=1)\n",
    "                d1 = datetime.datetime(year=temp01, month=temp02, day=1)\n",
    "\n",
    "                for day in range(int((d1 - d0).days)):\n",
    "                    current = datetime.datetime(year=year, month=month, day=day + 1)\n",
    "\n",
    "                    for hospital in hospitals:\n",
    "                        h_id = hospital[0]\n",
    "\n",
    "                        for drug in drugs:\n",
    "                            data.append({\n",
    "                                \"date\": current,\n",
    "                                \"h_id\": h_id,\n",
    "                                \"d_id\": drug[0],\n",
    "                                \"demand\": h_random_demand(sdx, drug[2], drug[3]),\n",
    "                            })\n",
    "    new_hospital_demand(data=data)  # Push Request To Db, Add Records\n",
    "\n",
    "del generates, genrate, year, sdx, season, month, temp01, temp02, d0, d1, day, hospital, drug, data, current, h_id, months, years"
   ]
  },
  {
   "cell_type": "markdown",
   "id": "def3cdce",
   "metadata": {},
   "source": [
    "## Generate Random Data Set For Pharmacies"
   ]
  },
  {
   "cell_type": "markdown",
   "id": "ab47ab4e",
   "metadata": {},
   "source": [
    "##### Defaults:\n",
    "1. **Data generated for a year ago**\n",
    "     * The data has a seasonal pattern\n",
    "         1. In the spring quarter (normal), demand is within the defined range\n",
    "         2. In the summer quarter (due to heat, etc.) demand is __7% lower__\n",
    "         3. In the autumn quarter (due to diseases, etc.) demand is __17% higher__\n",
    "         4. In the winter quarter (due to diseases, etc.) demand is __35% higher__\n",
    "     * Demand for pharmacies is higher than for hospitals in the last two seasons of the year. (Due to the general public's reference to daily supplements)\n",
    "     * The data is generated randomly in a certain interval (according to the seasonal patterns)\n",
    "     * The generated data is stored in a csv file (for the hospital **\"dataset_Pharmacies.csv\"**)\n",
    "2. **Data Set Format**\n",
    "    - **[Pharmacy_Name] [Date] [Demand_On_Med_@ID] ...**\n",
    "        * [Walgreens] [10/12/2021] [30 @Med1]\n",
    "        * [Walgreens] [10/13/2021] [20 @Med1]\n",
    "        * ..."
   ]
  },
  {
   "cell_type": "markdown",
   "id": "e59a8123",
   "metadata": {},
   "source": [
    "### Insert Records To Db"
   ]
  },
  {
   "cell_type": "markdown",
   "id": "11bb5e3a",
   "metadata": {},
   "source": [
    "#### [SQL] Insert Phamacy Demands"
   ]
  },
  {
   "cell_type": "code",
   "execution_count": 12,
   "id": "61459cc9",
   "metadata": {
    "ExecuteTime": {
     "end_time": "2021-12-23T19:04:57.416156Z",
     "start_time": "2021-12-23T19:04:57.408562Z"
    }
   },
   "outputs": [],
   "source": [
    "def new_pharmacy_demand(data: list) -> None:\n",
    "    import sqlite3\n",
    "    connection = sqlite3.connect('database.db')\n",
    "    cursor = connection.cursor()\n",
    "    for record in data:\n",
    "        date, pharmacy_id, drug_id, demand = record[\"date\"], record[\"ph_id\"], record[\"d_id\"], record[\"demand\"]\n",
    "        sql = f\"INSERT INTO pharmacy_demand (orderDate, pharmacy_id, drug_id, demand) \\\n",
    "            VALUES ('{date}', {pharmacy_id}, {drug_id}, {demand});\"\n",
    "        cursor.execute(sql)\n",
    "    connection.commit()\n",
    "    cursor.close()\n",
    "    connection.close()"
   ]
  },
  {
   "cell_type": "markdown",
   "id": "55ef794d",
   "metadata": {},
   "source": [
    "### Generate Pharmacy Random Drug Demand\n",
    "#### [Func] Generate Random Demand According To The Trend"
   ]
  },
  {
   "cell_type": "code",
   "execution_count": 13,
   "id": "bc1261a0",
   "metadata": {
    "ExecuteTime": {
     "end_time": "2021-12-23T19:05:00.720189Z",
     "start_time": "2021-12-23T19:05:00.712533Z"
    }
   },
   "outputs": [],
   "source": [
    "import random\n",
    "\n",
    "def ph_random_demand(season: int, low_demand: str, up_demand: str) -> int:\n",
    "    demand = random.randrange(int(low_demand) + 1, int(up_demand) + 1)\n",
    "    if season == 0:\n",
    "        return demand\n",
    "    elif season == 1:\n",
    "        return round(demand * 0.93)\n",
    "    elif season == 2:\n",
    "        return round(demand * 1.17)\n",
    "    else:\n",
    "        return round(demand * 1.35)"
   ]
  },
  {
   "cell_type": "markdown",
   "id": "3fdc770a",
   "metadata": {},
   "source": [
    "#### Generate Random Data For 3 Years"
   ]
  },
  {
   "cell_type": "code",
   "execution_count": 14,
   "id": "b9df62f3",
   "metadata": {
    "ExecuteTime": {
     "end_time": "2021-12-23T19:05:03.939021Z",
     "start_time": "2021-12-23T19:05:03.768704Z"
    }
   },
   "outputs": [],
   "source": [
    "import datetime\n",
    "\n",
    "generates = 1  # Random Data Generating Times\n",
    "\n",
    "years = [2018, 2019, 2020]\n",
    "months = [[1, 2, 3], [4, 5, 6], [7, 8, 9], [10, 11, 12]]\n",
    "\n",
    "for genrate in range(generates):\n",
    "    data = []\n",
    "    for year in years:\n",
    "        for sdx, season in enumerate(months):\n",
    "            for month in season:\n",
    "\n",
    "                temp01, temp02 = year + 1 if month == 12 else year, 1 if month == 12 else month + 1\n",
    "                d0 = datetime.datetime(year=year, month=month, day=1)\n",
    "                d1 = datetime.datetime(year=temp01, month=temp02, day=1)\n",
    "\n",
    "                for day in range(int((d1 - d0).days)):\n",
    "                    current = datetime.datetime(year=year, month=month, day=day + 1)\n",
    "\n",
    "                    for pharmacy in pharmacies:\n",
    "                        ph_id = pharmacy[0]\n",
    "\n",
    "                        for drug in drugs:\n",
    "                            data.append({\n",
    "                                \"date\": current,\n",
    "                                \"ph_id\": ph_id,\n",
    "                                \"d_id\": drug[0],\n",
    "                                \"demand\": ph_random_demand(sdx, drug[4], drug[5])\n",
    "                            })\n",
    "    new_pharmacy_demand(data=data)  # Push Request To Db, Add Records\n",
    "\n",
    "del generates, genrate, year, sdx, season, month, temp01, temp02, d0, d1, day, pharmacy, drug, data, current, ph_id, months, years"
   ]
  },
  {
   "cell_type": "markdown",
   "id": "7ccafcf2",
   "metadata": {},
   "source": [
    "## Predict Simulation Year (2021) Orders"
   ]
  },
  {
   "cell_type": "markdown",
   "id": "d28e9178",
   "metadata": {},
   "source": [
    "### Select The Simulation Interval"
   ]
  },
  {
   "cell_type": "code",
   "execution_count": 15,
   "id": "f2b17f4f",
   "metadata": {
    "ExecuteTime": {
     "end_time": "2021-12-23T19:05:06.065970Z",
     "start_time": "2021-12-23T19:05:05.801948Z"
    }
   },
   "outputs": [
    {
     "data": {
      "application/vnd.jupyter.widget-view+json": {
       "model_id": "ded851d14f854bde9391f1c04b22d4f6",
       "version_major": 2,
       "version_minor": 0
      },
      "text/plain": [
       "DatePicker(value=None, description='Start Date')"
      ]
     },
     "metadata": {},
     "output_type": "display_data"
    },
    {
     "data": {
      "application/vnd.jupyter.widget-view+json": {
       "model_id": "127a550eb7414af1ba20736a62e68349",
       "version_major": 2,
       "version_minor": 0
      },
      "text/plain": [
       "DatePicker(value=None, description='End Date')"
      ]
     },
     "metadata": {},
     "output_type": "display_data"
    }
   ],
   "source": [
    "from datetime import date\n",
    "from ipywidgets import widgets, interact\n",
    "from IPython.display import display\n",
    "\n",
    "start_date = widgets.DatePicker(description='Start Date', disabled=False)  # datetime.date(2021, 01, 01)\n",
    "end_date = widgets.DatePicker(description='End Date', disabled=False)  # datetime.date(2021, 12, 31)\n",
    "display(start_date)\n",
    "display(end_date)"
   ]
  },
  {
   "cell_type": "markdown",
   "id": "46a6afec",
   "metadata": {},
   "source": [
    "#### Get Date Values From Widgets"
   ]
  },
  {
   "cell_type": "code",
   "execution_count": 16,
   "id": "fb9c7402",
   "metadata": {
    "ExecuteTime": {
     "end_time": "2021-12-23T19:05:16.143802Z",
     "start_time": "2021-12-23T19:05:16.136383Z"
    }
   },
   "outputs": [],
   "source": [
    "# GET Dates From Widget\n",
    "\n",
    "start_date = start_date.value\n",
    "end_date = end_date.value"
   ]
  },
  {
   "cell_type": "markdown",
   "id": "a93ef677",
   "metadata": {},
   "source": [
    "#### [SQL] Insert Demand Estimation\n",
    "> Average demand on the __same day in the previous year__ and __90 days before the selected date__."
   ]
  },
  {
   "cell_type": "code",
   "execution_count": 17,
   "id": "cd5140a6",
   "metadata": {
    "ExecuteTime": {
     "end_time": "2021-12-23T19:05:17.840835Z",
     "start_time": "2021-12-23T19:05:17.832681Z"
    }
   },
   "outputs": [],
   "source": [
    "def demandEstimation(typ: str, obj: int, drug: int, first_date, second_date):\n",
    "    import sqlite3\n",
    "    connection = sqlite3.connect('database.db')\n",
    "    cursor = connection.cursor()\n",
    "    sql = f'''SELECT AVG(demand) FROM {typ}_demand WHERE \n",
    "        {typ}_id={obj} AND drug_id={drug} AND \n",
    "        (orderDate='{first_date} 00:00:00' OR orderDate='{second_date} 00:00:00')'''\n",
    "    demand = cursor.execute(sql).fetchone()\n",
    "    cursor.close()\n",
    "    connection.close()\n",
    "    return round(demand[0])"
   ]
  },
  {
   "cell_type": "markdown",
   "id": "a5cc7d56",
   "metadata": {},
   "source": [
    "#### Generate Data For Simulation Year"
   ]
  },
  {
   "cell_type": "code",
   "execution_count": 18,
   "id": "af5c2443",
   "metadata": {
    "ExecuteTime": {
     "end_time": "2021-12-23T19:05:19.890186Z",
     "start_time": "2021-12-23T19:05:19.883202Z"
    }
   },
   "outputs": [],
   "source": [
    "def getInterval(day):\n",
    "    temp1, temp2 = day - timedelta(days=90), day - timedelta(days=365)\n",
    "    return temp1, temp2"
   ]
  },
  {
   "cell_type": "code",
   "execution_count": 19,
   "id": "f4a3299e",
   "metadata": {
    "ExecuteTime": {
     "end_time": "2021-12-23T19:05:31.291917Z",
     "start_time": "2021-12-23T19:05:21.690150Z"
    }
   },
   "outputs": [],
   "source": [
    "from datetime import timedelta, datetime\n",
    "\n",
    "delta = end_date - start_date\n",
    "\n",
    "for i in range(delta.days + 1):\n",
    "    day = start_date + timedelta(days=i)\n",
    "\n",
    "    sdotma, sdolya = getInterval(day)  # Get 90 Days Ago, 365 Days Ago\n",
    "\n",
    "    h_orders, ph_orders = [], []\n",
    "    for drug in drugs:\n",
    "        drug_id, drug_name = drug[0], drug[1]\n",
    "\n",
    "        for hospital in hospitals:\n",
    "            hospital_id, hospital_name = hospital[0], hospital[1]\n",
    "            demand = demandEstimation(\"hospital\", hospital_id, drug_id, sdotma, sdolya)\n",
    "            h_orders.append({\n",
    "                \"date\": f\"{day} 00:00:00\",\n",
    "                \"h_id\": hospital_id,\n",
    "                \"d_id\": drug_id,\n",
    "                \"demand\": demand\n",
    "            })\n",
    "\n",
    "        for pharmacy in pharmacies:\n",
    "            pharmacy_id, pharmacy_name = pharmacy[0], pharmacy[1]\n",
    "            demand = demandEstimation(\"pharmacy\", pharmacy_id, drug_id, sdotma, sdolya)\n",
    "            ph_orders.append({\n",
    "                \"date\": f\"{day} 00:00:00\",\n",
    "                \"ph_id\": pharmacy_id,\n",
    "                \"d_id\": drug_id,\n",
    "                \"demand\": demand\n",
    "            })\n",
    "\n",
    "    new_hospital_demand(h_orders)\n",
    "    new_pharmacy_demand(ph_orders)\n",
    "del delta, i, day, sdotma, sdolya, h_orders, ph_orders, drug, drug_id, drug_name, hospital, hospital_id, hospital_name, demand, pharmacy, pharmacy_id, pharmacy_name"
   ]
  },
  {
   "cell_type": "markdown",
   "id": "f80c636c",
   "metadata": {},
   "source": [
    "## Generate Initial Inventory Of SCF Members"
   ]
  },
  {
   "cell_type": "code",
   "execution_count": null,
   "id": "58106787",
   "metadata": {
    "ExecuteTime": {
     "end_time": "2021-11-01T20:16:17.557090Z",
     "start_time": "2021-11-01T20:16:17.548866Z"
    }
   },
   "outputs": [],
   "source": [
    "def new_inventory_record(typ: str, date, obj: int, drug: int,\n",
    "                         inv: int) -> None:\n",
    "    import sqlite3\n",
    "    connection = sqlite3.connect(\"Data.db\")\n",
    "    cursor = connection.cursor()\n",
    "    sql = f'''INSERT INTO {typ}_inventory (dayDate, {typ}_id, drug_id, inventory) \n",
    "        VALUES (\"{date} 00:00:00\", {obj}, {drug}, {inv})'''\n",
    "    cursor.execute(sql)\n",
    "    connection.commit()\n",
    "    cursor.close()\n",
    "    connection.close()\n",
    "    return None"
   ]
  },
  {
   "cell_type": "markdown",
   "id": "65443ff4",
   "metadata": {},
   "source": [
    "### Hospitals\n",
    "> __400 $<=$ `Initial Inventory` $<$ 600__"
   ]
  },
  {
   "cell_type": "code",
   "execution_count": null,
   "id": "fcdc0b46",
   "metadata": {
    "ExecuteTime": {
     "end_time": "2021-11-01T20:16:18.976754Z",
     "start_time": "2021-11-01T20:16:18.957817Z"
    }
   },
   "outputs": [],
   "source": [
    "import random\n",
    "\n",
    "for hospital in hospitals:\n",
    "    hospital_id = hospital[0]\n",
    "    for drug in drugs:\n",
    "        drug_id = drug[0]\n",
    "        rnd_inv = random.randrange(400, 600)\n",
    "        new_inventory_record(typ=\"hospital\",\n",
    "                             date=start_date,\n",
    "                             obj=hospital_id,\n",
    "                             drug=drug_id,\n",
    "                             inv=rnd_inv)\n",
    "del hospital, hospital_id, drug, drug_id, rnd_inv"
   ]
  },
  {
   "cell_type": "markdown",
   "id": "ded4d0db",
   "metadata": {},
   "source": [
    "### Pharmacies\n",
    "> __150 $<=$ `Initial Inventory` $<$ 250__"
   ]
  },
  {
   "cell_type": "code",
   "execution_count": null,
   "id": "b147815e",
   "metadata": {
    "ExecuteTime": {
     "end_time": "2021-11-01T20:16:21.003790Z",
     "start_time": "2021-11-01T20:16:20.959868Z"
    }
   },
   "outputs": [],
   "source": [
    "import random\n",
    "\n",
    "for pharmacy in pharmacies:\n",
    "    pharmacy_id = pharmacy[0]\n",
    "    for drug in drugs:\n",
    "        drug_id = drug[0]\n",
    "        rnd_inv = random.randrange(150, 250)\n",
    "        new_inventory_record(typ=\"pharmacy\",\n",
    "                             date=start_date,\n",
    "                             obj=pharmacy_id,\n",
    "                             drug=drug_id,\n",
    "                             inv=rnd_inv)\n",
    "del pharmacy, pharmacy_id, drug, drug_id, rnd_inv"
   ]
  },
  {
   "cell_type": "markdown",
   "id": "02454b38",
   "metadata": {},
   "source": [
    "### Producers\n",
    "> __1000 $<=$ `Initial Inventory` $<$ 1500__"
   ]
  },
  {
   "cell_type": "code",
   "execution_count": null,
   "id": "0e2ab19f",
   "metadata": {
    "ExecuteTime": {
     "end_time": "2021-11-01T20:16:21.965111Z",
     "start_time": "2021-11-01T20:16:21.946620Z"
    }
   },
   "outputs": [],
   "source": [
    "import random\n",
    "\n",
    "for producer in producers:\n",
    "    producer_id = producer[0]\n",
    "    for drug in drugs:\n",
    "        drug_id = drug[0]\n",
    "        rnd_inv = random.randrange(1000, 1500)\n",
    "        new_inventory_record(typ=\"producer\",\n",
    "                             date=start_date,\n",
    "                             obj=producer_id,\n",
    "                             drug=drug_id,\n",
    "                             inv=rnd_inv)\n",
    "del producer, producer_id, drug, drug_id, rnd_inv"
   ]
  },
  {
   "cell_type": "markdown",
   "id": "4943aba7",
   "metadata": {},
   "source": [
    "### Distributors\n",
    "> __500 $<=$ `Initial Inventory` $<$ 700__"
   ]
  },
  {
   "cell_type": "code",
   "execution_count": null,
   "id": "88343196",
   "metadata": {
    "ExecuteTime": {
     "end_time": "2021-11-01T20:16:23.876723Z",
     "start_time": "2021-11-01T20:16:23.861440Z"
    }
   },
   "outputs": [],
   "source": [
    "import random\n",
    "\n",
    "for distributor in distributors:\n",
    "    distributor_id = distributor[0]\n",
    "    for drug in drugs:\n",
    "        drug_id = drug[0]\n",
    "        rnd_inv = random.randrange(500, 700)\n",
    "        new_inventory_record(typ=\"distributor\",\n",
    "                             date=start_date,\n",
    "                             obj=distributor_id,\n",
    "                             drug=drug_id,\n",
    "                             inv=rnd_inv)\n",
    "del distributor, distributor_id, drug, drug_id, rnd_inv"
   ]
  },
  {
   "cell_type": "markdown",
   "id": "bc57a35d",
   "metadata": {},
   "source": [
    "## Generate Production Capacity Of SCF Producers"
   ]
  },
  {
   "cell_type": "code",
   "execution_count": null,
   "id": "2f5b0fab",
   "metadata": {
    "ExecuteTime": {
     "end_time": "2021-11-01T20:16:25.604131Z",
     "start_time": "2021-11-01T20:16:25.596278Z"
    }
   },
   "outputs": [],
   "source": [
    "def new_producer_capacity(producer: int, drug: int, capacity: int) -> None:\n",
    "    import sqlite3\n",
    "    connection = sqlite3.connect(\"Data.db\")\n",
    "    cursor = connection.cursor()\n",
    "    sql = f'''INSERT INTO producer_capacity (producer_id, drug_id, capacity) \n",
    "        VALUES ({producer}, {drug}, {capacity})'''\n",
    "    cursor.execute(sql)\n",
    "    connection.commit()\n",
    "    cursor.close()\n",
    "    connection.close()\n",
    "    return None"
   ]
  },
  {
   "cell_type": "markdown",
   "id": "4f3f7930",
   "metadata": {},
   "source": [
    "> __Capacity__ = 5 * hospital_up_demand"
   ]
  },
  {
   "cell_type": "code",
   "execution_count": null,
   "id": "e1f17953",
   "metadata": {
    "ExecuteTime": {
     "end_time": "2021-11-01T20:16:27.258585Z",
     "start_time": "2021-11-01T20:16:27.244068Z"
    }
   },
   "outputs": [],
   "source": [
    "for producer in producers:\n",
    "    for drug in drugs:\n",
    "        new_producer_capacity(producer=producer[0],\n",
    "                              drug=drug[0],\n",
    "                              capacity=5 * drug[3])\n",
    "del producer"
   ]
  },
  {
   "cell_type": "markdown",
   "id": "700028cc",
   "metadata": {},
   "source": [
    "## Generate Producer Drug Sale Price"
   ]
  },
  {
   "cell_type": "markdown",
   "id": "e447011a",
   "metadata": {},
   "source": [
    "*__Defaults:__*\n",
    ">1. Each drug has an __approved price__ in its raw input data, For example Ecotrin 15\\$.\n",
    "2. Each producer (according to its production conditions) announces a price in the range of __-3\\% - +3\\%__ around the approved price of the drug.\n",
    "3. All drugs from each producer have a __10\\%__ price increase over a __30-day period__."
   ]
  },
  {
   "cell_type": "markdown",
   "id": "2f830ecd",
   "metadata": {},
   "source": [
    "### Insert Record To Db\n",
    "#### [SQL] Insert Producer Sales Price"
   ]
  },
  {
   "cell_type": "code",
   "execution_count": 20,
   "id": "04d21469",
   "metadata": {
    "ExecuteTime": {
     "end_time": "2021-12-23T19:05:36.303809Z",
     "start_time": "2021-12-23T19:05:36.296020Z"
    }
   },
   "outputs": [],
   "source": [
    "def new_producer_price(data: list) -> None:\n",
    "    import sqlite3\n",
    "    connection = sqlite3.connect('database.db')\n",
    "    cursor = connection.cursor()\n",
    "    for record in data:\n",
    "        date, producer_id, drug_id, price = record[\"date\"], record[\"pr_id\"], record[\"d_id\"], record[\"price\"]\n",
    "        sql = f\"INSERT INTO producer_price (dayDate, producer_id, drug_id, price) \\\n",
    "            VALUES ('{date}', {producer_id}, {drug_id}, {price});\"\n",
    "        cursor.execute(sql)\n",
    "    connection.commit()\n",
    "    cursor.close()\n",
    "    connection.close()"
   ]
  },
  {
   "cell_type": "markdown",
   "id": "2986c835",
   "metadata": {},
   "source": [
    "#### Generate Producer Drug Price For Simulation Year"
   ]
  },
  {
   "cell_type": "code",
   "execution_count": 21,
   "id": "3be55a2c",
   "metadata": {
    "ExecuteTime": {
     "end_time": "2021-12-23T19:05:40.863691Z",
     "start_time": "2021-12-23T19:05:40.832420Z"
    }
   },
   "outputs": [],
   "source": [
    "from random import randrange\n",
    "from datetime import timedelta, datetime\n",
    "\n",
    "data = []\n",
    "delta = end_date - start_date\n",
    "\n",
    "for producer in producers:\n",
    "    producer_id = producer[0]\n",
    "    \n",
    "    for drug in drugs:\n",
    "        drug_id = drug[0]\n",
    "        producer_rate = randrange(-3, 4)\n",
    "        producer_increase_rate = 0\n",
    "    \n",
    "        for i in range(delta.days + 1):\n",
    "            day = start_date + timedelta(days=i)\n",
    "            price = drug[6] * (1 + (producer_rate / 100))\n",
    "            \n",
    "            if ((i + 1) % 30) == 0:\n",
    "                producer_increase_rate += 0.1\n",
    "            price *= (1 + producer_increase_rate)\n",
    "            \n",
    "            data.append({\n",
    "                \"date\": f\"{day} 00:00:00\",\n",
    "                \"pr_id\": producer_id,\n",
    "                \"d_id\": drug_id,\n",
    "                \"price\": round(price)\n",
    "            })\n",
    "    \n",
    "new_producer_price(data)\n",
    "del data, delta, producer, producer_id, drug, drug_id, producer_rate, producer_increase_rate, i, day, price"
   ]
  },
  {
   "cell_type": "markdown",
   "id": "e348a82d",
   "metadata": {},
   "source": [
    "## Demand Data Visualization"
   ]
  },
  {
   "cell_type": "markdown",
   "id": "667ab34d",
   "metadata": {},
   "source": [
    "### Demand Data"
   ]
  },
  {
   "cell_type": "markdown",
   "id": "2d7e7ecb",
   "metadata": {},
   "source": [
    "#### [SQL] Get All Data"
   ]
  },
  {
   "cell_type": "code",
   "execution_count": 22,
   "id": "17d17a4e",
   "metadata": {
    "ExecuteTime": {
     "end_time": "2021-12-23T19:05:42.547541Z",
     "start_time": "2021-12-23T19:05:42.539905Z"
    }
   },
   "outputs": [],
   "source": [
    "def get_record(table: str, fields: str) -> list:\n",
    "    import sqlite3\n",
    "    connection = sqlite3.connect('database.db')\n",
    "    cursor = connection.cursor()\n",
    "    sql = f\"SELECT {fields if fields else '*'} FROM {table} ORDER BY id\"\n",
    "    records = cursor.execute(sql).fetchall()\n",
    "    cursor.close()\n",
    "    connection.close()\n",
    "    return records"
   ]
  },
  {
   "cell_type": "markdown",
   "id": "60229ad7",
   "metadata": {},
   "source": [
    "#### [SQL] Get Member Demands"
   ]
  },
  {
   "cell_type": "code",
   "execution_count": 23,
   "id": "a4221579",
   "metadata": {
    "ExecuteTime": {
     "end_time": "2021-12-23T19:05:43.959430Z",
     "start_time": "2021-12-23T19:05:43.950463Z"
    }
   },
   "outputs": [],
   "source": [
    "def get_demand_record(table: str, fields: str, member: int, drug: int,\n",
    "                      start_date: str, end_date: str):\n",
    "    import sqlite3\n",
    "    connection = sqlite3.connect('database.db')\n",
    "    cursor = connection.cursor()\n",
    "    sql = f'''SELECT {fields if fields else '*'} FROM {table} WHERE (\n",
    "        hospital_id{f\"={member}\" if member else ''} AND\n",
    "        drug_id{f\"={drug}\" if drug else ''} AND\n",
    "        orderDate{f\">='{start_date}'\" if start_date else ''} AND\n",
    "        orderDate{f\"<'{end_date}'\" if end_date else ''})\n",
    "        ORDER BY id'''\n",
    "    records = cursor.execute(sql).fetchall()\n",
    "    cursor.close()\n",
    "    connection.close()\n",
    "    return records"
   ]
  },
  {
   "cell_type": "markdown",
   "id": "2cf0c103",
   "metadata": {},
   "source": [
    "#### [SQL] Sum Member Demands"
   ]
  },
  {
   "cell_type": "code",
   "execution_count": 24,
   "id": "5f802bb7",
   "metadata": {
    "ExecuteTime": {
     "end_time": "2021-12-23T19:05:45.442080Z",
     "start_time": "2021-12-23T19:05:45.433767Z"
    }
   },
   "outputs": [],
   "source": [
    "def sum_demand_record(table: str, member: int, drug: int, start_date: str,\n",
    "                      end_date: str):\n",
    "    import sqlite3\n",
    "    _ = 'hospital_id' if table == 'hospital_demand' else 'pharmacy_id'\n",
    "    connection = sqlite3.connect('database.db')\n",
    "    cursor = connection.cursor()\n",
    "    sql = f'''SELECT SUM(demand) FROM {table} WHERE (\n",
    "        {_}{f\"={member}\" if member else ''} AND\n",
    "        drug_id{f\"={drug}\" if drug else ''} AND\n",
    "        orderDate{f\">='{start_date}'\" if start_date else ''} AND\n",
    "        orderDate{f\"<'{end_date}'\" if end_date else ''})'''\n",
    "    records = cursor.execute(sql).fetchone()\n",
    "    cursor.close()\n",
    "    connection.close()\n",
    "    return records[0]"
   ]
  },
  {
   "cell_type": "markdown",
   "id": "3da0b102",
   "metadata": {},
   "source": [
    "#### [SQL] Avg Member Demands"
   ]
  },
  {
   "cell_type": "code",
   "execution_count": 25,
   "id": "9acf5ed2",
   "metadata": {
    "ExecuteTime": {
     "end_time": "2021-12-23T19:05:46.647883Z",
     "start_time": "2021-12-23T19:05:46.639552Z"
    }
   },
   "outputs": [],
   "source": [
    "def avg_demand_record(table: str, member: int, drug: int, start_date: str,\n",
    "                      end_date: str):\n",
    "    import sqlite3\n",
    "    _ = 'hospital_id' if table == 'hospital_demand' else 'pharmacy_id'\n",
    "    connection = sqlite3.connect('database.db')\n",
    "    cursor = connection.cursor()\n",
    "    sql = f'''SELECT AVG(demand) FROM {table} WHERE (\n",
    "        {_}{f\"={member}\" if member else ''} AND\n",
    "        drug_id{f\"={drug}\" if drug else ''} AND\n",
    "        orderDate{f\">='{start_date}'\" if start_date else ''} AND\n",
    "        orderDate{f\"<'{end_date}'\" if end_date else ''})'''\n",
    "    records = cursor.execute(sql).fetchone()\n",
    "    cursor.close()\n",
    "    connection.close()\n",
    "    return records[0]"
   ]
  },
  {
   "cell_type": "markdown",
   "id": "e6625413",
   "metadata": {},
   "source": [
    "### Hospital Demand Chart"
   ]
  },
  {
   "cell_type": "code",
   "execution_count": 27,
   "id": "5d6053e1",
   "metadata": {
    "ExecuteTime": {
     "end_time": "2021-12-23T19:05:50.823185Z",
     "start_time": "2021-12-23T19:05:50.447781Z"
    }
   },
   "outputs": [
    {
     "data": {
      "image/png": "[encoded data removed]",
      "text/plain": [
       "<Figure size 720x432 with 1 Axes>"
      ]
     },
     "metadata": {
      "needs_background": "light"
     },
     "output_type": "display_data"
    }
   ],
   "source": [
    "import random\n",
    "import datetime\n",
    "import matplotlib.pyplot as plt\n",
    "import pandas as pd\n",
    "\n",
    "data = {\n",
    "    'months': [\n",
    "        'Jan', 'Feb', 'Mar', 'Apr', 'May', 'Jun', 'Jul', 'Aug', 'Sep', 'Oct', 'Nov', 'Dec'\n",
    "    ]\n",
    "}\n",
    "drugs = get_record(table='drug', fields='id, name')\n",
    "for drug in drugs:\n",
    "    for year in [2018, 2019, 2020, 2021]:\n",
    "        temp = []\n",
    "        for month in range(1, 13):\n",
    "            temp01, temp02 = year + 1 if month == 12 else year, 1 if month == 12 else month + 1\n",
    "            sd = datetime.datetime(year=year, month=month, day=1)\n",
    "            ed = datetime.datetime(year=temp01, month=temp02, day=1)\n",
    "            d = avg_demand_record(table='hospital_demand',\n",
    "                                  member='',\n",
    "                                  drug=drug[0],\n",
    "                                  start_date=sd,\n",
    "                                  end_date=ed)\n",
    "            temp.append(d)\n",
    "        data[f\"{drug[1]}-{year}\"] = temp\n",
    "\n",
    "df = pd.DataFrame(data)\n",
    "for idx, key in enumerate(list(data.keys())):\n",
    "    r = lambda: random.randint(0, 255)\n",
    "    if idx != 0:\n",
    "        plt.plot('months',\n",
    "                 key,\n",
    "                 data=df,\n",
    "                 marker='*',\n",
    "                 color='#%02X%02X%02X' % (r(), r(), r()),\n",
    "                 linewidth=2)\n",
    "plt.legend()\n",
    "plt.title(\"Line Chart - Hospital Average Demand For Drugs In 2018, 2019, 2020, 2021\")\n",
    "plt.rcParams[\"figure.figsize\"] = (10, len(drugs) * 3)\n",
    "plt.show()\n",
    "\n",
    "del data, drugs, drug, year, temp, month, temp01, temp02, sd, ed, d, df, idx, key, r"
   ]
  },
  {
   "cell_type": "markdown",
   "id": "8a820b3e",
   "metadata": {},
   "source": [
    "### Pharmacy Demand Data"
   ]
  },
  {
   "cell_type": "code",
   "execution_count": 28,
   "id": "4c4bfca0",
   "metadata": {
    "ExecuteTime": {
     "end_time": "2021-12-23T19:05:53.035722Z",
     "start_time": "2021-12-23T19:05:52.636525Z"
    }
   },
   "outputs": [
    {
     "data": {
      "image/png": "[encoded data removed]",
      "text/plain": [
       "<Figure size 720x432 with 1 Axes>"
      ]
     },
     "metadata": {
      "needs_background": "light"
     },
     "output_type": "display_data"
    }
   ],
   "source": [
    "import random\n",
    "import datetime\n",
    "import matplotlib.pyplot as plt\n",
    "import pandas as pd\n",
    "\n",
    "data = {\n",
    "    'months': [\n",
    "        'Jan', 'Feb', 'Mar', 'Apr', 'May', 'Jun', 'Jul', 'Aug', 'Sep', 'Oct', 'Nov', 'Dec'\n",
    "    ]\n",
    "}\n",
    "drugs = get_record(table='drug', fields='id, name')\n",
    "for drug in drugs:\n",
    "    for year in [2018, 2019, 2020, 2021]:\n",
    "        temp = []\n",
    "        for month in range(1, 13):\n",
    "            temp01, temp02 = year + 1 if month == 12 else year, 1 if month == 12 else month + 1\n",
    "            sd = datetime.datetime(year=year, month=month, day=1)\n",
    "            ed = datetime.datetime(year=temp01, month=temp02, day=1)\n",
    "            d = avg_demand_record(table='pharmacy_demand',\n",
    "                                  member='',\n",
    "                                  drug=drug[0],\n",
    "                                  start_date=sd,\n",
    "                                  end_date=ed)\n",
    "            temp.append(d)\n",
    "        data[f\"{drug[1]}-{year}\"] = temp\n",
    "\n",
    "df = pd.DataFrame(data)\n",
    "for idx, key in enumerate(list(data.keys())):\n",
    "    r = lambda: random.randint(0, 255)\n",
    "    if idx != 0:\n",
    "        plt.plot('months',\n",
    "                 key,\n",
    "                 data=df,\n",
    "                 marker='*',\n",
    "                 color='#%02X%02X%02X' % (r(), r(), r()),\n",
    "                 linewidth=2)\n",
    "plt.legend()\n",
    "plt.title(\"Line Chart - Pharmacy Average Demand For Drugs In 2018, 2019, 2020, 2021\")\n",
    "plt.rcParams[\"figure.figsize\"] = (10, len(drugs) * 3)\n",
    "plt.show()\n",
    "\n",
    "del data, drugs, drug, year, temp, month, temp01, temp02, sd, ed, d, df, idx, key, r, distributors, hospitals, pharmacies, producers, suppliers, interact"
   ]
  },
  {
   "cell_type": "markdown",
   "id": "fb457b95",
   "metadata": {},
   "source": [
    "### Producer Drug Price Data"
   ]
  },
  {
   "cell_type": "markdown",
   "id": "7664582a",
   "metadata": {},
   "source": [
    "#### [SQL] Avg Producers Sales Price"
   ]
  },
  {
   "cell_type": "code",
   "execution_count": 29,
   "id": "e508ea93",
   "metadata": {
    "ExecuteTime": {
     "end_time": "2021-12-23T19:05:54.466334Z",
     "start_time": "2021-12-23T19:05:54.458284Z"
    }
   },
   "outputs": [],
   "source": [
    "def avg_producer_price(member: int, drug: int, start_date: str, end_date: str):\n",
    "    import sqlite3\n",
    "    connection = sqlite3.connect('database.db')\n",
    "    cursor = connection.cursor()\n",
    "    sql = f'''SELECT AVG(price) FROM producer_price WHERE (\n",
    "        producer_id{f\"={member}\" if member else ''} AND\n",
    "        drug_id{f\"={drug}\" if drug else ''} AND\n",
    "        dayDate{f\">='{start_date}'\" if start_date else ''} AND\n",
    "        dayDate{f\"<'{end_date}'\" if end_date else ''})'''\n",
    "    records = cursor.execute(sql).fetchone()\n",
    "    cursor.close()\n",
    "    connection.close()\n",
    "    return records[0]"
   ]
  },
  {
   "cell_type": "markdown",
   "id": "31dde7ee",
   "metadata": {},
   "source": [
    "### Producers Price Data"
   ]
  },
  {
   "cell_type": "code",
   "execution_count": 30,
   "id": "2a30499d",
   "metadata": {
    "ExecuteTime": {
     "end_time": "2021-12-23T19:05:56.253643Z",
     "start_time": "2021-12-23T19:05:56.000789Z"
    }
   },
   "outputs": [
    {
     "data": {
      "image/png": "[encoded data removed]",
      "text/plain": [
       "<Figure size 720x432 with 1 Axes>"
      ]
     },
     "metadata": {
      "needs_background": "light"
     },
     "output_type": "display_data"
    }
   ],
   "source": [
    "import random\n",
    "import datetime\n",
    "import matplotlib.pyplot as plt\n",
    "import pandas as pd\n",
    "\n",
    "data = {\n",
    "    'months': [\n",
    "        'Jan', 'Feb', 'Mar', 'Apr', 'May', 'Jun', 'Jul', 'Aug', 'Sep', 'Oct', 'Nov', 'Dec'\n",
    "    ]\n",
    "}\n",
    "drugs = get_record(table='drug', fields='id, name')\n",
    "producers = get_record(table='producer', fields='id, name')\n",
    "for drug in drugs:\n",
    "    for producer in producers:\n",
    "        temp = []\n",
    "        for month in range(1, 13):\n",
    "            temp01, temp02 = 2021 + 1 if month == 12 else 2021, 1 if month == 12 else month + 1\n",
    "            sd = datetime.datetime(year=2021, month=month, day=1)\n",
    "            ed = datetime.datetime(year=temp01, month=temp02, day=1)\n",
    "            \n",
    "            p = avg_producer_price(member='',\n",
    "                                  drug=drug[0],\n",
    "                                  start_date=sd,\n",
    "                                  end_date=ed)\n",
    "            temp.append(p)\n",
    "        data[f\"{drug[1]}-{producer[1]}\"] = temp\n",
    "\n",
    "df = pd.DataFrame(data)\n",
    "for idx, key in enumerate(list(data.keys())):\n",
    "    r = lambda: random.randint(0, 255)\n",
    "    if idx != 0:\n",
    "        plt.plot('months',\n",
    "                 key,\n",
    "                 data=df,\n",
    "                 marker='*',\n",
    "                 color='#%02X%02X%02X' % (r(), r(), r()),\n",
    "                 linewidth=2)\n",
    "plt.legend()\n",
    "plt.title(\"Line Chart - Selling Price Of Producers' Drugs In 2021\")\n",
    "plt.rcParams[\"figure.figsize\"] = (10, len(drugs) * 3)\n",
    "plt.show()\n",
    "del data, drugs, producers, drug, producer, temp, temp01, temp02, month, sd,ed, p, df, idx, key, r, plt, start_date, end_date, randrange"
   ]
  },
  {
   "cell_type": "code",
   "execution_count": null,
   "id": "e1e21ed6",
   "metadata": {},
   "outputs": [],
   "source": []
  }
 ],
 "metadata": {
  "kernelspec": {
   "display_name": "Python 3 (ipykernel)",
   "language": "python",
   "name": "python3"
  },
  "language_info": {
   "codemirror_mode": {
    "name": "ipython",
    "version": 3
   },
   "file_extension": ".py",
   "mimetype": "text/x-python",
   "name": "python",
   "nbconvert_exporter": "python",
   "pygments_lexer": "ipython3",
   "version": "3.8.10"
  },
  "latex_envs": {
   "LaTeX_envs_menu_present": true,
   "autoclose": false,
   "autocomplete": true,
   "bibliofile": "biblio.bib",
   "cite_by": "apalike",
   "current_citInitial": 1,
   "eqLabelWithNumbers": true,
   "eqNumInitial": 1,
   "hotkeys": {
    "equation": "Ctrl-E",
    "itemize": "Ctrl-I"
   },
   "labels_anchors": false,
   "latex_user_defs": false,
   "report_style_numbering": false,
   "user_envs_cfg": false
  },
  "toc": {
   "base_numbering": 1,
   "nav_menu": {},
   "number_sections": true,
   "sideBar": true,
   "skip_h1_title": true,
   "title_cell": "Table of Contents",
   "title_sidebar": "Contents",
   "toc_cell": false,
   "toc_position": {
    "height": "calc(100% - 180px)",
    "left": "10px",
    "top": "150px",
    "width": "362.8px"
   },
   "toc_section_display": true,
   "toc_window_display": true
  },
  "toc-autonumbering": true,
  "toc-showcode": false,
  "varInspector": {
   "cols": {
    "lenName": 16,
    "lenType": 16,
    "lenVar": 40
   },
   "kernels_config": {
    "python": {
     "delete_cmd_postfix": "",
     "delete_cmd_prefix": "del ",
     "library": "var_list.py",
     "varRefreshCmd": "print(var_dic_list())"
    },
    "r": {
     "delete_cmd_postfix": ") ",
     "delete_cmd_prefix": "rm(",
     "library": "var_list.r",
     "varRefreshCmd": "cat(var_dic_list()) "
    }
   },
   "oldHeight": 330.85,
   "position": {
    "height": "830px",
    "left": "1542px",
    "right": "20px",
    "top": "118px",
    "width": "309px"
   },
   "types_to_exclude": [
    "module",
    "function",
    "builtin_function_or_method",
    "instance",
    "_Feature"
   ],
   "varInspector_section_display": "block",
   "window_display": false
  }
 },
 "nbformat": 4,
 "nbformat_minor": 5
}
