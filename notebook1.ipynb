{
 "cells": [
  {
   "cell_type": "markdown",
   "id": "a7f7b75f",
   "metadata": {},
   "source": [
    "# Finance Supply Chain Simulation Db Management\n",
    "\n",
    "## Database Design\n",
    "1. We use a \"*SQLite Database*\" to store and load data.\n",
    "2. __Raw data__ can be imported from a __.csv__ file\n",
    "    * __Drugs__ data\n",
    "    * __Hospitals__ data\n",
    "    * __Pharmacies__ data\n",
    "    * __Producers__ data\n",
    "    * __Distributors__ data\n",
    "    * __Suppliers__ data\n",
    "    * ..."
   ]
  },
  {
   "cell_type": "markdown",
   "id": "7c3d8eb3",
   "metadata": {
    "tags": []
   },
   "source": [
    "### Create SQLite Db File"
   ]
  },
  {
   "cell_type": "code",
   "execution_count": 1,
   "id": "4ad5c431",
   "metadata": {
    "ExecuteTime": {
     "end_time": "2021-12-23T19:04:03.122885Z",
     "start_time": "2021-12-23T19:04:03.112422Z"
    }
   },
   "outputs": [],
   "source": [
    "import sqlite3\n",
    "\n",
    "connection = sqlite3.connect('database.db',\n",
    "                             detect_types=sqlite3.PARSE_DECLTYPES\n",
    "                             | sqlite3.PARSE_COLNAMES)\n",
    "cursor = connection.cursor()"
   ]
  },
  {
   "cell_type": "markdown",
   "id": "604ecff4",
   "metadata": {},
   "source": [
    "####  [SQL] Create Hospitals Table"
   ]
  },
  {
   "cell_type": "code",
   "execution_count": 2,
   "id": "7bf901aa",
   "metadata": {
    "ExecuteTime": {
     "end_time": "2021-12-23T19:04:03.236143Z",
     "start_time": "2021-12-23T19:04:03.133411Z"
    }
   },
   "outputs": [
    {
     "data": {
      "text/plain": [
       "<sqlite3.Cursor at 0x7fce6855e9d0>"
      ]
     },
     "execution_count": 2,
     "metadata": {},
     "output_type": "execute_result"
    }
   ],
   "source": [
    "createTable = '''CREATE TABLE hospital (\n",
    "    id INTEGER PRIMARY KEY AUTOINCREMENT,\n",
    "    name CHARACTER(20) UNIQUE NOT NULL,\n",
    "    address NVARCHAR(100) NOT NULL,\n",
    "    phone CHARACTER(20) Unique NOT NULL,\n",
    "    fixed_cost INTEGER NOT NULL,\n",
    "    variable_cost INTEGER NOT NULL\n",
    "    );'''\n",
    "cursor.execute(createTable)"
   ]
  },
  {
   "cell_type": "markdown",
   "id": "e28a7a03",
   "metadata": {},
   "source": [
    "####  [SQL] Create Pharmacies Table"
   ]
  },
  {
   "cell_type": "code",
   "execution_count": 3,
   "id": "389b8700",
   "metadata": {
    "ExecuteTime": {
     "end_time": "2021-12-23T19:04:03.258074Z",
     "start_time": "2021-12-23T19:04:03.243883Z"
    }
   },
   "outputs": [
    {
     "data": {
      "text/plain": [
       "<sqlite3.Cursor at 0x7fce6855e9d0>"
      ]
     },
     "execution_count": 3,
     "metadata": {},
     "output_type": "execute_result"
    }
   ],
   "source": [
    "createTable = '''CREATE TABLE pharmacy (\n",
    "    id INTEGER PRIMARY KEY AUTOINCREMENT,\n",
    "    name CHARACTER(20) UNIQUE NOT NULL,\n",
    "    address NVARCHAR(100) NOT NULL,\n",
    "    phone CHARACTER(20) Unique NOT NULL,\n",
    "    fixed_cost INTEGER NOT NULL,\n",
    "    variable_cost INTEGER NOT NULL\n",
    "    );'''\n",
    "cursor.execute(createTable)"
   ]
  },
  {
   "cell_type": "markdown",
   "id": "13de1701",
   "metadata": {},
   "source": [
    "####  [SQL] Create Producers Table"
   ]
  },
  {
   "cell_type": "code",
   "execution_count": 4,
   "id": "df19c73b",
   "metadata": {
    "ExecuteTime": {
     "end_time": "2021-12-23T19:04:03.274997Z",
     "start_time": "2021-12-23T19:04:03.262551Z"
    }
   },
   "outputs": [
    {
     "data": {
      "text/plain": [
       "<sqlite3.Cursor at 0x7fce6855e9d0>"
      ]
     },
     "execution_count": 4,
     "metadata": {},
     "output_type": "execute_result"
    }
   ],
   "source": [
    "createTable = '''CREATE TABLE producer (\n",
    "    id INTEGER PRIMARY KEY AUTOINCREMENT,\n",
    "    name CHARACTER(20) UNIQUE NOT NULL,\n",
    "    address NVARCHAR(100) NOT NULL,\n",
    "    phone CHARACTER(20) Unique NOT NULL,\n",
    "    fixed_cost INTEGER NOT NULL,\n",
    "    variable_cost INTEGER NOT NULL\n",
    "    );'''\n",
    "cursor.execute(createTable)"
   ]
  },
  {
   "cell_type": "markdown",
   "id": "485bf778",
   "metadata": {},
   "source": [
    "####  [SQL] Create Distributors Table"
   ]
  },
  {
   "cell_type": "code",
   "execution_count": 5,
   "id": "a4a0afd6",
   "metadata": {
    "ExecuteTime": {
     "end_time": "2021-12-23T19:04:03.290486Z",
     "start_time": "2021-12-23T19:04:03.279322Z"
    }
   },
   "outputs": [
    {
     "data": {
      "text/plain": [
       "<sqlite3.Cursor at 0x7fce6855e9d0>"
      ]
     },
     "execution_count": 5,
     "metadata": {},
     "output_type": "execute_result"
    }
   ],
   "source": [
    "createTable = '''CREATE TABLE distributor (\n",
    "    id INTEGER PRIMARY KEY AUTOINCREMENT,\n",
    "    name CHARACTER(20) UNIQUE NOT NULL,\n",
    "    address NVARCHAR(100) NOT NULL,\n",
    "    phone CHARACTER(20) Unique NOT NULL,\n",
    "    fixed_cost INTEGER NOT NULL,\n",
    "    variable_cost INTEGER NOT NULL\n",
    "    );'''\n",
    "cursor.execute(createTable)"
   ]
  },
  {
   "cell_type": "markdown",
   "id": "8e24e36c",
   "metadata": {},
   "source": [
    "####  [SQL] Create Supplier Table"
   ]
  },
  {
   "cell_type": "code",
   "execution_count": 6,
   "id": "07b85180",
   "metadata": {
    "ExecuteTime": {
     "end_time": "2021-12-23T19:04:03.304563Z",
     "start_time": "2021-12-23T19:04:03.294353Z"
    }
   },
   "outputs": [
    {
     "data": {
      "text/plain": [
       "<sqlite3.Cursor at 0x7fce6855e9d0>"
      ]
     },
     "execution_count": 6,
     "metadata": {},
     "output_type": "execute_result"
    }
   ],
   "source": [
    "createTable = '''CREATE TABLE supplier (\n",
    "    id INTEGER PRIMARY KEY AUTOINCREMENT,\n",
    "    name CHARACTER(20) UNIQUE NOT NULL,\n",
    "    address NVARCHAR(100) NOT NULL,\n",
    "    phone CHARACTER(20) Unique NOT NULL,\n",
    "    fixed_cost INTEGER NOT NULL,\n",
    "    variable_cost INTEGER NOT NULL\n",
    "    );'''\n",
    "cursor.execute(createTable)"
   ]
  },
  {
   "cell_type": "markdown",
   "id": "e81f59f3",
   "metadata": {},
   "source": [
    "####  [SQL] Create Drugs Table"
   ]
  },
  {
   "cell_type": "code",
   "execution_count": 7,
   "id": "16aa7705",
   "metadata": {
    "ExecuteTime": {
     "end_time": "2021-12-23T19:04:03.320922Z",
     "start_time": "2021-12-23T19:04:03.310300Z"
    }
   },
   "outputs": [
    {
     "data": {
      "text/plain": [
       "<sqlite3.Cursor at 0x7fce6855e9d0>"
      ]
     },
     "execution_count": 7,
     "metadata": {},
     "output_type": "execute_result"
    }
   ],
   "source": [
    "createTable = '''CREATE TABLE drug (\n",
    "    id INTEGER PRIMARY KEY AUTOINCREMENT,\n",
    "    name CHARACTER(20) UNIQUE NOT NULL,\n",
    "    h_low_demand INTEGER NOT NULL,\n",
    "    h_up_demand INTEGER NOT NULL,\n",
    "    ph_low_demand INTEGER NOT NULL,\n",
    "    ph_up_demand INTEGER NOT NULL,\n",
    "    initial_price INTEGER NOT NULL,\n",
    "    detail TEXT\n",
    "    );'''\n",
    "cursor.execute(createTable)"
   ]
  },
  {
   "cell_type": "markdown",
   "id": "b9fbd92b",
   "metadata": {},
   "source": [
    "#### [SQL] Create Hospital Demand Table"
   ]
  },
  {
   "cell_type": "code",
   "execution_count": 8,
   "id": "a7a8e350",
   "metadata": {
    "ExecuteTime": {
     "end_time": "2021-12-23T19:04:03.338792Z",
     "start_time": "2021-12-23T19:04:03.327170Z"
    }
   },
   "outputs": [
    {
     "data": {
      "text/plain": [
       "<sqlite3.Cursor at 0x7fce6855e9d0>"
      ]
     },
     "execution_count": 8,
     "metadata": {},
     "output_type": "execute_result"
    }
   ],
   "source": [
    "createTable = '''CREATE TABLE hospital_demand (\n",
    "    id INTEGER PRIMARY KEY AUTOINCREMENT,\n",
    "    orderDate TIMESTAMP NOT NULL,\n",
    "    hospital_id INTEGER NOT NULL REFERENCES hospital(id),\n",
    "    drug_id INTEGER NOT NULL REFERENCES drug(id),\n",
    "    demand INTEGER NOT NULL\n",
    "    );'''\n",
    "cursor.execute(createTable)"
   ]
  },
  {
   "cell_type": "markdown",
   "id": "274d6de7",
   "metadata": {},
   "source": [
    "#### [SQL] Create Pharmacy Demand Table"
   ]
  },
  {
   "cell_type": "code",
   "execution_count": 9,
   "id": "7eeca768",
   "metadata": {
    "ExecuteTime": {
     "end_time": "2021-12-23T19:04:03.354781Z",
     "start_time": "2021-12-23T19:04:03.340219Z"
    }
   },
   "outputs": [
    {
     "data": {
      "text/plain": [
       "<sqlite3.Cursor at 0x7fce6855e9d0>"
      ]
     },
     "execution_count": 9,
     "metadata": {},
     "output_type": "execute_result"
    }
   ],
   "source": [
    "createTable = '''CREATE TABLE pharmacy_demand (\n",
    "    id INTEGER PRIMARY KEY AUTOINCREMENT,\n",
    "    orderDate TIMESTAMP NOT NULL,\n",
    "    pharmacy_id INTEGER NOT NULL REFERENCES pharmacy(id),\n",
    "    drug_id INTEGER NOT NULL REFERENCES drug(id),\n",
    "    demand INTEGER NOT NULL\n",
    "    );'''\n",
    "cursor.execute(createTable)"
   ]
  },
  {
   "cell_type": "markdown",
   "id": "08cd3170",
   "metadata": {},
   "source": [
    "#### [SQL] Create Producer Price Table"
   ]
  },
  {
   "cell_type": "code",
   "execution_count": 10,
   "id": "5bd3f7e4",
   "metadata": {
    "ExecuteTime": {
     "end_time": "2021-12-23T19:04:03.439720Z",
     "start_time": "2021-12-23T19:04:03.356304Z"
    }
   },
   "outputs": [
    {
     "data": {
      "text/plain": [
       "<sqlite3.Cursor at 0x7fce6855e9d0>"
      ]
     },
     "execution_count": 10,
     "metadata": {},
     "output_type": "execute_result"
    }
   ],
   "source": [
    "createTable = '''CREATE TABLE producer_price (\n",
    "    id INTEGER PRIMARY KEY AUTOINCREMENT,\n",
    "    dayDate TIMESTAMP NOT NULL,\n",
    "    producer_id INTEGER NOT NULL REFERENCES producer(id),\n",
    "    drug_id INTEGER NOT NULL REFERENCES drug(id),\n",
    "    price INTEGER NOT NULL\n",
    "    );'''\n",
    "cursor.execute(createTable)"
   ]
  },
  {
   "cell_type": "markdown",
   "id": "16082d4b",
   "metadata": {},
   "source": [
    "#### [SQL] Create Distributor Order Table"
   ]
  },
  {
   "cell_type": "markdown",
   "id": "01839007",
   "metadata": {
    "tags": []
   },
   "source": [
    "### Remove Variables, Close IO Streams"
   ]
  },
  {
   "cell_type": "code",
   "execution_count": 11,
   "id": "550cd34f",
   "metadata": {
    "ExecuteTime": {
     "end_time": "2021-12-23T19:04:03.452586Z",
     "start_time": "2021-12-23T19:04:03.442026Z"
    }
   },
   "outputs": [],
   "source": [
    "connection.commit()\n",
    "cursor.close()\n",
    "connection.close()\n",
    "\n",
    "del connection, cursor, createTable"
   ]
  },
  {
   "cell_type": "markdown",
   "id": "46642f48",
   "metadata": {
    "tags": []
   },
   "source": [
    "## Import Raw Data From .csv File"
   ]
  },
  {
   "cell_type": "markdown",
   "id": "2ea29fe9",
   "metadata": {},
   "source": [
    "### [CSV] Load Drug Data"
   ]
  },
  {
   "cell_type": "code",
   "execution_count": 12,
   "id": "182cdcf9",
   "metadata": {
    "ExecuteTime": {
     "end_time": "2021-12-23T19:04:03.491461Z",
     "start_time": "2021-12-23T19:04:03.456587Z"
    }
   },
   "outputs": [],
   "source": [
    "import csv\n",
    "\n",
    "drugs = []\n",
    "with open('data/drugs.csv', mode='r') as file:\n",
    "    reader = csv.reader(file, delimiter=',')\n",
    "    for idx, drug in enumerate(reader):\n",
    "        drugs.append({\n",
    "            \"id\": idx,\n",
    "            \"name\": drug[0],\n",
    "            \"h_low_demand\": drug[1],\n",
    "            \"h_up_demand\": drug[2],\n",
    "            \"ph_low_demand\": drug[3],\n",
    "            \"ph_up_demand\": drug[4],\n",
    "            \"initial_price\": drug[5],\n",
    "            \"detail\": drug[6],\n",
    "        })\n",
    "file.close()"
   ]
  },
  {
   "cell_type": "markdown",
   "id": "314b1d50",
   "metadata": {},
   "source": [
    "### [CSV] Load Hospital Data"
   ]
  },
  {
   "cell_type": "code",
   "execution_count": 13,
   "id": "e65f49ba",
   "metadata": {
    "ExecuteTime": {
     "end_time": "2021-12-23T19:04:03.514516Z",
     "start_time": "2021-12-23T19:04:03.496509Z"
    }
   },
   "outputs": [],
   "source": [
    "hospitals = []\n",
    "with open('data/hospitals.csv', mode='r') as file:\n",
    "    reader = csv.reader(file, delimiter=',')\n",
    "    for idx, hospital in enumerate(reader):\n",
    "        hospitals.append({\n",
    "            \"id\": idx,\n",
    "            \"name\": hospital[0],\n",
    "            \"address\": hospital[1],\n",
    "            \"phone\": hospital[2],\n",
    "            \"fixed_cost\": hospital[3],\n",
    "            \"variable_cost\": hospital[4]\n",
    "        })\n",
    "file.close()"
   ]
  },
  {
   "cell_type": "markdown",
   "id": "e6ac40cf",
   "metadata": {},
   "source": [
    "### [CSV] Load Pharmacy Data"
   ]
  },
  {
   "cell_type": "code",
   "execution_count": 14,
   "id": "37cc64a0",
   "metadata": {
    "ExecuteTime": {
     "end_time": "2021-12-23T19:04:03.536303Z",
     "start_time": "2021-12-23T19:04:03.521686Z"
    }
   },
   "outputs": [],
   "source": [
    "pharmacies = []\n",
    "with open('data/pharmacies.csv', mode='r') as file:\n",
    "    reader = csv.reader(file, delimiter=',')\n",
    "    for idx, pharmacy in enumerate(reader):\n",
    "        pharmacies.append({\n",
    "            \"id\": idx,\n",
    "            \"name\": pharmacy[0],\n",
    "            \"address\": pharmacy[1],\n",
    "            \"phone\": pharmacy[2],\n",
    "            \"fixed_cost\": pharmacy[3],\n",
    "            \"variable_cost\": pharmacy[4]\n",
    "        })\n",
    "file.close()"
   ]
  },
  {
   "cell_type": "markdown",
   "id": "a5e50aab",
   "metadata": {},
   "source": [
    "### [CSV] Load Producers Data"
   ]
  },
  {
   "cell_type": "code",
   "execution_count": 15,
   "id": "16e76e0b",
   "metadata": {
    "ExecuteTime": {
     "end_time": "2021-12-23T19:04:03.564269Z",
     "start_time": "2021-12-23T19:04:03.550874Z"
    }
   },
   "outputs": [],
   "source": [
    "producers = []\n",
    "with open('data/producers.csv', mode='r') as file:\n",
    "    reader = csv.reader(file, delimiter=',')\n",
    "    for idx, producer in enumerate(reader):\n",
    "        producers.append({\n",
    "            \"id\": idx,\n",
    "            \"name\": producer[0],\n",
    "            \"address\": producer[1],\n",
    "            \"phone\": producer[2],\n",
    "            \"fixed_cost\": producer[3],\n",
    "            \"variable_cost\": producer[4]\n",
    "        })\n",
    "file.close()"
   ]
  },
  {
   "cell_type": "markdown",
   "id": "575f5f7f",
   "metadata": {},
   "source": [
    "### [CSV] Load Supplier Data"
   ]
  },
  {
   "cell_type": "code",
   "execution_count": 16,
   "id": "5dcde112",
   "metadata": {
    "ExecuteTime": {
     "end_time": "2021-12-23T19:04:03.600192Z",
     "start_time": "2021-12-23T19:04:03.573160Z"
    }
   },
   "outputs": [],
   "source": [
    "suppliers = []\n",
    "with open('data/suppliers.csv', mode='r') as file:\n",
    "    reader = csv.reader(file, delimiter=',')\n",
    "    for idx, supplier in enumerate(reader):\n",
    "        suppliers.append({\n",
    "            \"id\": idx,\n",
    "            \"name\": supplier[0],\n",
    "            \"address\": supplier[1],\n",
    "            \"phone\": supplier[2],\n",
    "            \"fixed_cost\": supplier[3],\n",
    "            \"variable_cost\": supplier[4]\n",
    "        })\n",
    "file.close()"
   ]
  },
  {
   "cell_type": "markdown",
   "id": "9e0cd032",
   "metadata": {},
   "source": [
    "### [CSV] Load Distributor Data"
   ]
  },
  {
   "cell_type": "code",
   "execution_count": 17,
   "id": "08b348e0",
   "metadata": {
    "ExecuteTime": {
     "end_time": "2021-12-23T19:04:03.628119Z",
     "start_time": "2021-12-23T19:04:03.604233Z"
    }
   },
   "outputs": [],
   "source": [
    "distributors = []\n",
    "with open('data/distributors.csv', mode='r') as file:\n",
    "    reader = csv.reader(file, delimiter=',')\n",
    "    for idx, distributor in enumerate(reader):\n",
    "        distributors.append({\n",
    "            \"id\": idx,\n",
    "            \"name\": distributor[0],\n",
    "            \"address\": distributor[1],\n",
    "            \"phone\": distributor[2],\n",
    "            \"fixed_cost\": distributor[3],\n",
    "            \"variable_cost\": distributor[4]\n",
    "        })\n",
    "file.close()\n",
    "\n",
    "del file, reader, idx, drug, hospital, pharmacy, producer, supplier, distributor"
   ]
  },
  {
   "cell_type": "markdown",
   "id": "aea45ca9",
   "metadata": {
    "tags": []
   },
   "source": [
    "## Insert Data To SQLite Database\n",
    "### Connect To Database File"
   ]
  },
  {
   "cell_type": "code",
   "execution_count": 18,
   "id": "a4e229e1",
   "metadata": {
    "ExecuteTime": {
     "end_time": "2021-12-23T19:04:03.653998Z",
     "start_time": "2021-12-23T19:04:03.639539Z"
    }
   },
   "outputs": [],
   "source": [
    "import sqlite3\n",
    "\n",
    "connection = sqlite3.connect('database.db')\n",
    "cursor = connection.cursor()"
   ]
  },
  {
   "cell_type": "markdown",
   "id": "ca52f1a1",
   "metadata": {},
   "source": [
    "### Importing Data"
   ]
  },
  {
   "cell_type": "markdown",
   "id": "cdafc7e2",
   "metadata": {},
   "source": [
    "#### [SQL] Import Hospital Data"
   ]
  },
  {
   "cell_type": "code",
   "execution_count": 19,
   "id": "cc57f46a",
   "metadata": {
    "ExecuteTime": {
     "end_time": "2021-12-23T19:04:03.682081Z",
     "start_time": "2021-12-23T19:04:03.655507Z"
    }
   },
   "outputs": [],
   "source": [
    "for hospital in hospitals:\n",
    "    name = hospital[\"name\"]\n",
    "    address = hospital[\"address\"]\n",
    "    phone = hospital[\"phone\"]\n",
    "    fixed_cost = hospital[\"fixed_cost\"]\n",
    "    variable_cost = hospital[\"variable_cost\"]\n",
    "    sql = f\"INSERT INTO hospital (name, address, phone, fixed_cost, variable_cost) VALUES \\\n",
    "        ('{name}', '{address}', '{phone}', '{fixed_cost}', '{variable_cost}');\"\n",
    "\n",
    "    cursor.execute(sql)"
   ]
  },
  {
   "cell_type": "markdown",
   "id": "8c5ddd3d",
   "metadata": {},
   "source": [
    "#### [SQL] Import Pharmacy Data"
   ]
  },
  {
   "cell_type": "code",
   "execution_count": 20,
   "id": "8b5d4bdb",
   "metadata": {
    "ExecuteTime": {
     "end_time": "2021-12-23T19:04:03.763218Z",
     "start_time": "2021-12-23T19:04:03.700974Z"
    }
   },
   "outputs": [],
   "source": [
    "for pharmacy in pharmacies:\n",
    "    name = pharmacy[\"name\"]\n",
    "    address = pharmacy[\"address\"]\n",
    "    phone = pharmacy[\"phone\"]\n",
    "    fixed_cost = pharmacy[\"fixed_cost\"]\n",
    "    variable_cost = pharmacy[\"variable_cost\"]\n",
    "    sql = f\"INSERT INTO pharmacy (name, address, phone, fixed_cost, variable_cost) VALUES \\\n",
    "        ('{name}', '{address}', '{phone}', '{fixed_cost}', '{variable_cost}');\"\n",
    "\n",
    "    cursor.execute(sql)"
   ]
  },
  {
   "cell_type": "markdown",
   "id": "258153b0",
   "metadata": {},
   "source": [
    "#### [SQL] Import Drug Data"
   ]
  },
  {
   "cell_type": "code",
   "execution_count": 21,
   "id": "196c395e",
   "metadata": {
    "ExecuteTime": {
     "end_time": "2021-12-23T19:04:03.806099Z",
     "start_time": "2021-12-23T19:04:03.771362Z"
    }
   },
   "outputs": [],
   "source": [
    "for drug in drugs:\n",
    "    name = drug[\"name\"]\n",
    "    hld = drug[\"h_low_demand\"]\n",
    "    hud = drug[\"h_up_demand\"]\n",
    "    phld = drug[\"ph_low_demand\"]\n",
    "    phud = drug[\"ph_up_demand\"]\n",
    "    price = drug[\"initial_price\"]\n",
    "    detail = drug[\"detail\"]\n",
    "    sql = f\"INSERT INTO drug (name, h_low_demand, h_up_demand, ph_low_demand, ph_up_demand, initial_price, detail)\\\n",
    "        VALUES ('{name}', '{hld}', '{hud}', '{phld}', '{phud}', '{price}', '{detail}');\"\n",
    "\n",
    "    cursor.execute(sql)"
   ]
  },
  {
   "cell_type": "markdown",
   "id": "108ce3c9",
   "metadata": {},
   "source": [
    "#### [SQL] Import Producers Data"
   ]
  },
  {
   "cell_type": "code",
   "execution_count": 22,
   "id": "5794eb79",
   "metadata": {
    "ExecuteTime": {
     "end_time": "2021-12-23T19:04:03.837033Z",
     "start_time": "2021-12-23T19:04:03.811226Z"
    }
   },
   "outputs": [],
   "source": [
    "for producer in producers:\n",
    "    name = producer[\"name\"]\n",
    "    address = producer[\"address\"]\n",
    "    phone = producer[\"phone\"]\n",
    "    fixed_cost = producer[\"fixed_cost\"]\n",
    "    variable_cost = producer[\"variable_cost\"]\n",
    "    sql = f\"INSERT INTO producer (name, address, phone, fixed_cost, variable_cost) VALUES \\\n",
    "        ('{name}', '{address}', '{phone}', '{fixed_cost}', '{variable_cost}');\"\n",
    "\n",
    "    cursor.execute(sql)"
   ]
  },
  {
   "cell_type": "markdown",
   "id": "3b01c51c",
   "metadata": {},
   "source": [
    "#### [SQL] Import Suppliers Data"
   ]
  },
  {
   "cell_type": "code",
   "execution_count": 23,
   "id": "1f235427",
   "metadata": {
    "ExecuteTime": {
     "end_time": "2021-12-23T19:04:03.887639Z",
     "start_time": "2021-12-23T19:04:03.851881Z"
    }
   },
   "outputs": [],
   "source": [
    "for supplier in suppliers:\n",
    "    name = supplier[\"name\"]\n",
    "    address = supplier[\"address\"]\n",
    "    phone = supplier[\"phone\"]\n",
    "    fixed_cost = supplier[\"fixed_cost\"]\n",
    "    variable_cost = supplier[\"variable_cost\"]\n",
    "    sql = f\"INSERT INTO supplier (name, address, phone, fixed_cost, variable_cost) VALUES \\\n",
    "        ('{name}', '{address}', '{phone}', '{fixed_cost}', '{variable_cost}');\"\n",
    "\n",
    "    cursor.execute(sql)"
   ]
  },
  {
   "cell_type": "markdown",
   "id": "472254a5",
   "metadata": {},
   "source": [
    "#### [SQL] Import Distributors Data"
   ]
  },
  {
   "cell_type": "code",
   "execution_count": 24,
   "id": "e27222e5",
   "metadata": {
    "ExecuteTime": {
     "end_time": "2021-12-23T19:04:03.945909Z",
     "start_time": "2021-12-23T19:04:03.905962Z"
    }
   },
   "outputs": [],
   "source": [
    "for distributor in distributors:\n",
    "    name = distributor[\"name\"]\n",
    "    address = distributor[\"address\"]\n",
    "    phone = distributor[\"phone\"]\n",
    "    fixed_cost = distributor[\"fixed_cost\"]\n",
    "    variable_cost = distributor[\"variable_cost\"]\n",
    "    sql = f\"INSERT INTO distributor (name, address, phone, fixed_cost, variable_cost) VALUES \\\n",
    "        ('{name}', '{address}', '{phone}', '{fixed_cost}', '{variable_cost}');\"\n",
    "\n",
    "    cursor.execute(sql)"
   ]
  },
  {
   "cell_type": "markdown",
   "id": "6a5a6d5e",
   "metadata": {},
   "source": [
    "### Remove Variables, Close IO Streams"
   ]
  },
  {
   "cell_type": "code",
   "execution_count": 25,
   "id": "13501268",
   "metadata": {
    "ExecuteTime": {
     "end_time": "2021-12-23T19:04:03.997988Z",
     "start_time": "2021-12-23T19:04:03.955523Z"
    }
   },
   "outputs": [],
   "source": [
    "connection.commit()\n",
    "cursor.close()\n",
    "connection.close()\n",
    "\n",
    "del connection, cursor, sql, name, address, phone, hld, hud, phld, phud, price, detail, hospital, pharmacy, drug, producer, supplier, distributor, fixed_cost, variable_cost, distributors, drugs, hospitals, pharmacies, producers, suppliers"
   ]
  },
  {
   "cell_type": "code",
   "execution_count": null,
   "id": "ff158915",
   "metadata": {},
   "outputs": [],
   "source": []
  }
 ],
 "metadata": {
  "kernelspec": {
   "display_name": "Python 3 (ipykernel)",
   "language": "python",
   "name": "python3"
  },
  "language_info": {
   "codemirror_mode": {
    "name": "ipython",
    "version": 3
   },
   "file_extension": ".py",
   "mimetype": "text/x-python",
   "name": "python",
   "nbconvert_exporter": "python",
   "pygments_lexer": "ipython3",
   "version": "3.8.10"
  },
  "latex_envs": {
   "LaTeX_envs_menu_present": true,
   "autoclose": false,
   "autocomplete": true,
   "bibliofile": "biblio.bib",
   "cite_by": "apalike",
   "current_citInitial": 1,
   "eqLabelWithNumbers": true,
   "eqNumInitial": 1,
   "hotkeys": {
    "equation": "Ctrl-E",
    "itemize": "Ctrl-I"
   },
   "labels_anchors": false,
   "latex_user_defs": false,
   "report_style_numbering": false,
   "user_envs_cfg": false
  },
  "toc": {
   "base_numbering": 1,
   "nav_menu": {},
   "number_sections": true,
   "sideBar": true,
   "skip_h1_title": true,
   "title_cell": "Table of Contents",
   "title_sidebar": "Contents",
   "toc_cell": false,
   "toc_position": {
    "height": "calc(100% - 180px)",
    "left": "10px",
    "top": "150px",
    "width": "362.8px"
   },
   "toc_section_display": true,
   "toc_window_display": true
  },
  "toc-showcode": false,
  "toc-showmarkdowntxt": false,
  "varInspector": {
   "cols": {
    "lenName": 16,
    "lenType": 16,
    "lenVar": 40
   },
   "kernels_config": {
    "python": {
     "delete_cmd_postfix": "",
     "delete_cmd_prefix": "del ",
     "library": "var_list.py",
     "varRefreshCmd": "print(var_dic_list())"
    },
    "r": {
     "delete_cmd_postfix": ") ",
     "delete_cmd_prefix": "rm(",
     "library": "var_list.r",
     "varRefreshCmd": "cat(var_dic_list()) "
    }
   },
   "oldHeight": 211.85,
   "position": {
    "height": "256.85px",
    "left": "1428px",
    "right": "20px",
    "top": "117px",
    "width": "430px"
   },
   "types_to_exclude": [
    "module",
    "function",
    "builtin_function_or_method",
    "instance",
    "_Feature"
   ],
   "varInspector_section_display": "block",
   "window_display": false
  }
 },
 "nbformat": 4,
 "nbformat_minor": 5
}
